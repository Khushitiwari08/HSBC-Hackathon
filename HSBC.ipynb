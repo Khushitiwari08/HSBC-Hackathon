{
 "cells": [
  {
   "cell_type": "markdown",
   "id": "79d070f0",
   "metadata": {},
   "source": [
    "Model"
   ]
  },
  {
   "cell_type": "code",
   "execution_count": 17,
   "id": "5516da34",
   "metadata": {},
   "outputs": [],
   "source": [
    "import pandas as pd\n",
    "import numpy as np\n",
    "from sklearn.model_selection import train_test_split\n",
    "from sklearn.preprocessing import StandardScaler\n",
    "from sklearn.ensemble import RandomForestClassifier\n",
    "from sklearn.metrics import accuracy_score, precision_score, recall_score, f1_score,roc_auc_score,confusion_matrix\n",
    "import matplotlib.pyplot as plt\n",
    "import seaborn as sns"
   ]
  },
  {
   "cell_type": "markdown",
   "id": "ef099380",
   "metadata": {},
   "source": [
    "Read the file"
   ]
  },
  {
   "cell_type": "code",
   "execution_count": 18,
   "id": "e4b2c0f9",
   "metadata": {},
   "outputs": [],
   "source": [
    "df=pd.read_csv(\"train_hsbc_df.csv\")"
   ]
  },
  {
   "cell_type": "markdown",
   "id": "c37f496f",
   "metadata": {},
   "source": [
    "Clean The dataset"
   ]
  },
  {
   "cell_type": "code",
   "execution_count": 19,
   "id": "77c22994",
   "metadata": {},
   "outputs": [],
   "source": [
    "df_cleaned = df.copy()\n",
    "for col in ['customer', 'age', 'gender', 'zipcodeOri', 'merchant', 'zipMerchant', 'category']:\n",
    "    df_cleaned[col] = df_cleaned[col].str.replace(\"'\", \"\")"
   ]
  },
  {
   "cell_type": "code",
   "execution_count": 20,
   "id": "ad3fd206",
   "metadata": {},
   "outputs": [],
   "source": [
    "\n",
    "df_cleaned['amount'] = df_cleaned['amount'].astype(float)\n"
   ]
  },
  {
   "cell_type": "markdown",
   "id": "57e0da68",
   "metadata": {},
   "source": [
    "Check Imbalance"
   ]
  },
  {
   "cell_type": "code",
   "execution_count": 21,
   "id": "4071e667",
   "metadata": {
    "scrolled": true
   },
   "outputs": [
    {
     "data": {
      "text/plain": [
       "fraud\n",
       "0    98.792936\n",
       "1     1.207064\n",
       "Name: proportion, dtype: float64"
      ]
     },
     "execution_count": 21,
     "metadata": {},
     "output_type": "execute_result"
    }
   ],
   "source": [
    "#checking class imbalance\n",
    "class_distribution = df_cleaned['fraud'].value_counts(normalize=True)*100\n",
    "class_distribution"
   ]
  },
  {
   "cell_type": "code",
   "execution_count": 22,
   "id": "1cd5b461",
   "metadata": {},
   "outputs": [],
   "source": [
    "df_encoded = df_cleaned.copy()\n",
    "for col in ['customer', 'age', 'gender', 'zipcodeOri', 'merchant', 'zipMerchant', 'category']:\n",
    "    df_encoded[col] = df_encoded[col].astype('category').cat.codes"
   ]
  },
  {
   "cell_type": "markdown",
   "id": "bb4f9e90",
   "metadata": {},
   "source": [
    "Co relation Matrix"
   ]
  },
  {
   "cell_type": "code",
   "execution_count": null,
   "id": "1aa18e9f",
   "metadata": {},
   "outputs": [],
   "source": [
    "correlation_matrix = df_encoded.corr()\n",
    "fraud_correlations = correlation_matrix['fraud'].sort_values(ascending=False)\n",
    "\n",
    "fraud_correlations\n",
    "plt.figure(figsize=(10, 6))\n",
    "sns.barplot(x=fraud_correlations.index, y=fraud_correlations.values, palette='viridis')\n",
    "\n",
    "# x and y label\n",
    "plt.xlabel('Features')\n",
    "plt.ylabel('Correlation with Fraud')\n",
    "plt.title('Correlation')\n",
    "\n",
    "plt.tight_layout()\n",
    "plt.show()\n"
   ]
  },
  {
   "cell_type": "markdown",
   "id": "df829203",
   "metadata": {},
   "source": [
    "Train and Test"
   ]
  },
  {
   "cell_type": "code",
   "execution_count": 24,
   "id": "dc9bd0a6",
   "metadata": {},
   "outputs": [],
   "source": [
    "X = df_cleaned.drop('fraud', axis=1)\n",
    "y = df_cleaned['fraud']\n",
    "\n",
    "     # Split the data into training and test sets\n",
    "X_train, X_test, y_train, y_test = train_test_split(X, y, test_size=0.3, random_state=42, stratify=y)\n"
   ]
  },
  {
   "cell_type": "markdown",
   "id": "267658ae",
   "metadata": {},
   "source": [
    "Create a Pipeline"
   ]
  },
  {
   "cell_type": "code",
   "execution_count": 25,
   "id": "78e0f0ae",
   "metadata": {},
   "outputs": [],
   "source": [
    "from sklearn.preprocessing import StandardScaler, OneHotEncoder\n",
    "from sklearn.compose import ColumnTransformer\n",
    "from sklearn.pipeline import Pipeline\n",
    "\n",
    "# Identify numeric and categorical columns\n",
    "numeric_features = X.select_dtypes(include=['int64', 'float64']).columns\n",
    "categorical_features = X.select_dtypes(include=['object']).columns\n",
    "\n",
    "# Create preprocessing pipelines for numeric and categorical data\n",
    "numeric_pipeline = Pipeline([\n",
    "    ('scaler', StandardScaler())\n",
    "])\n",
    "\n",
    "categorical_pipeline = Pipeline([\n",
    "    ('onehot', OneHotEncoder(handle_unknown='ignore'))\n",
    "])\n",
    "\n",
    "# Combine pipelines into a full preprocessing pipeline\n",
    "preprocessor = ColumnTransformer([\n",
    "    ('num', numeric_pipeline, numeric_features),\n",
    "    ('cat', categorical_pipeline, categorical_features)\n",
    "])\n",
    "\n",
    "# Preprocess training and test data\n",
    "X_train_preprocessed = preprocessor.fit_transform(X_train)\n",
    "X_test_preprocessed = preprocessor.transform(X_test)\n"
   ]
  },
  {
   "cell_type": "markdown",
   "id": "840485a8",
   "metadata": {},
   "source": [
    "XGBboost model"
   ]
  },
  {
   "cell_type": "code",
   "execution_count": 26,
   "id": "01a392f4",
   "metadata": {},
   "outputs": [
    {
     "name": "stderr",
     "output_type": "stream",
     "text": [
      "C:\\Users\\Khushi\\Downloads\\New folder\\lib\\site-packages\\xgboost\\core.py:158: UserWarning: [16:37:43] WARNING: C:\\buildkite-agent\\builds\\buildkite-windows-cpu-autoscaling-group-i-0015a694724fa8361-1\\xgboost\\xgboost-ci-windows\\src\\learner.cc:740: \n",
      "Parameters: { \"use_label_encoder\" } are not used.\n",
      "\n",
      "  warnings.warn(smsg, UserWarning)\n"
     ]
    },
    {
     "data": {
      "text/html": [
       "<style>#sk-container-id-2 {color: black;}#sk-container-id-2 pre{padding: 0;}#sk-container-id-2 div.sk-toggleable {background-color: white;}#sk-container-id-2 label.sk-toggleable__label {cursor: pointer;display: block;width: 100%;margin-bottom: 0;padding: 0.3em;box-sizing: border-box;text-align: center;}#sk-container-id-2 label.sk-toggleable__label-arrow:before {content: \"▸\";float: left;margin-right: 0.25em;color: #696969;}#sk-container-id-2 label.sk-toggleable__label-arrow:hover:before {color: black;}#sk-container-id-2 div.sk-estimator:hover label.sk-toggleable__label-arrow:before {color: black;}#sk-container-id-2 div.sk-toggleable__content {max-height: 0;max-width: 0;overflow: hidden;text-align: left;background-color: #f0f8ff;}#sk-container-id-2 div.sk-toggleable__content pre {margin: 0.2em;color: black;border-radius: 0.25em;background-color: #f0f8ff;}#sk-container-id-2 input.sk-toggleable__control:checked~div.sk-toggleable__content {max-height: 200px;max-width: 100%;overflow: auto;}#sk-container-id-2 input.sk-toggleable__control:checked~label.sk-toggleable__label-arrow:before {content: \"▾\";}#sk-container-id-2 div.sk-estimator input.sk-toggleable__control:checked~label.sk-toggleable__label {background-color: #d4ebff;}#sk-container-id-2 div.sk-label input.sk-toggleable__control:checked~label.sk-toggleable__label {background-color: #d4ebff;}#sk-container-id-2 input.sk-hidden--visually {border: 0;clip: rect(1px 1px 1px 1px);clip: rect(1px, 1px, 1px, 1px);height: 1px;margin: -1px;overflow: hidden;padding: 0;position: absolute;width: 1px;}#sk-container-id-2 div.sk-estimator {font-family: monospace;background-color: #f0f8ff;border: 1px dotted black;border-radius: 0.25em;box-sizing: border-box;margin-bottom: 0.5em;}#sk-container-id-2 div.sk-estimator:hover {background-color: #d4ebff;}#sk-container-id-2 div.sk-parallel-item::after {content: \"\";width: 100%;border-bottom: 1px solid gray;flex-grow: 1;}#sk-container-id-2 div.sk-label:hover label.sk-toggleable__label {background-color: #d4ebff;}#sk-container-id-2 div.sk-serial::before {content: \"\";position: absolute;border-left: 1px solid gray;box-sizing: border-box;top: 0;bottom: 0;left: 50%;z-index: 0;}#sk-container-id-2 div.sk-serial {display: flex;flex-direction: column;align-items: center;background-color: white;padding-right: 0.2em;padding-left: 0.2em;position: relative;}#sk-container-id-2 div.sk-item {position: relative;z-index: 1;}#sk-container-id-2 div.sk-parallel {display: flex;align-items: stretch;justify-content: center;background-color: white;position: relative;}#sk-container-id-2 div.sk-item::before, #sk-container-id-2 div.sk-parallel-item::before {content: \"\";position: absolute;border-left: 1px solid gray;box-sizing: border-box;top: 0;bottom: 0;left: 50%;z-index: -1;}#sk-container-id-2 div.sk-parallel-item {display: flex;flex-direction: column;z-index: 1;position: relative;background-color: white;}#sk-container-id-2 div.sk-parallel-item:first-child::after {align-self: flex-end;width: 50%;}#sk-container-id-2 div.sk-parallel-item:last-child::after {align-self: flex-start;width: 50%;}#sk-container-id-2 div.sk-parallel-item:only-child::after {width: 0;}#sk-container-id-2 div.sk-dashed-wrapped {border: 1px dashed gray;margin: 0 0.4em 0.5em 0.4em;box-sizing: border-box;padding-bottom: 0.4em;background-color: white;}#sk-container-id-2 div.sk-label label {font-family: monospace;font-weight: bold;display: inline-block;line-height: 1.2em;}#sk-container-id-2 div.sk-label-container {text-align: center;}#sk-container-id-2 div.sk-container {/* jupyter's `normalize.less` sets `[hidden] { display: none; }` but bootstrap.min.css set `[hidden] { display: none !important; }` so we also need the `!important` here to be able to override the default hidden behavior on the sphinx rendered scikit-learn.org. See: https://github.com/scikit-learn/scikit-learn/issues/21755 */display: inline-block !important;position: relative;}#sk-container-id-2 div.sk-text-repr-fallback {display: none;}</style><div id=\"sk-container-id-2\" class=\"sk-top-container\"><div class=\"sk-text-repr-fallback\"><pre>XGBClassifier(base_score=None, booster=None, callbacks=None,\n",
       "              colsample_bylevel=None, colsample_bynode=None,\n",
       "              colsample_bytree=None, device=None, early_stopping_rounds=None,\n",
       "              enable_categorical=False, eval_metric=&#x27;logloss&#x27;,\n",
       "              feature_types=None, gamma=None, grow_policy=None,\n",
       "              importance_type=None, interaction_constraints=None,\n",
       "              learning_rate=None, max_bin=None, max_cat_threshold=None,\n",
       "              max_cat_to_onehot=None, max_delta_step=None, max_depth=None,\n",
       "              max_leaves=None, min_child_weight=None, missing=nan,\n",
       "              monotone_constraints=None, multi_strategy=None, n_estimators=None,\n",
       "              n_jobs=None, num_parallel_tree=None, random_state=42, ...)</pre><b>In a Jupyter environment, please rerun this cell to show the HTML representation or trust the notebook. <br />On GitHub, the HTML representation is unable to render, please try loading this page with nbviewer.org.</b></div><div class=\"sk-container\" hidden><div class=\"sk-item\"><div class=\"sk-estimator sk-toggleable\"><input class=\"sk-toggleable__control sk-hidden--visually\" id=\"sk-estimator-id-2\" type=\"checkbox\" checked><label for=\"sk-estimator-id-2\" class=\"sk-toggleable__label sk-toggleable__label-arrow\">XGBClassifier</label><div class=\"sk-toggleable__content\"><pre>XGBClassifier(base_score=None, booster=None, callbacks=None,\n",
       "              colsample_bylevel=None, colsample_bynode=None,\n",
       "              colsample_bytree=None, device=None, early_stopping_rounds=None,\n",
       "              enable_categorical=False, eval_metric=&#x27;logloss&#x27;,\n",
       "              feature_types=None, gamma=None, grow_policy=None,\n",
       "              importance_type=None, interaction_constraints=None,\n",
       "              learning_rate=None, max_bin=None, max_cat_threshold=None,\n",
       "              max_cat_to_onehot=None, max_delta_step=None, max_depth=None,\n",
       "              max_leaves=None, min_child_weight=None, missing=nan,\n",
       "              monotone_constraints=None, multi_strategy=None, n_estimators=None,\n",
       "              n_jobs=None, num_parallel_tree=None, random_state=42, ...)</pre></div></div></div></div></div>"
      ],
      "text/plain": [
       "XGBClassifier(base_score=None, booster=None, callbacks=None,\n",
       "              colsample_bylevel=None, colsample_bynode=None,\n",
       "              colsample_bytree=None, device=None, early_stopping_rounds=None,\n",
       "              enable_categorical=False, eval_metric='logloss',\n",
       "              feature_types=None, gamma=None, grow_policy=None,\n",
       "              importance_type=None, interaction_constraints=None,\n",
       "              learning_rate=None, max_bin=None, max_cat_threshold=None,\n",
       "              max_cat_to_onehot=None, max_delta_step=None, max_depth=None,\n",
       "              max_leaves=None, min_child_weight=None, missing=nan,\n",
       "              monotone_constraints=None, multi_strategy=None, n_estimators=None,\n",
       "              n_jobs=None, num_parallel_tree=None, random_state=42, ...)"
      ]
     },
     "execution_count": 26,
     "metadata": {},
     "output_type": "execute_result"
    }
   ],
   "source": [
    "import xgboost as xgb\n",
    "from sklearn.metrics import classification_report, roc_auc_score\n",
    "from sklearn.model_selection import train_test_split\n",
    "# Initialize the XGBoost model\n",
    "xgb_model = xgb.XGBClassifier(\n",
    "    objective='binary:logistic',  # Binary classification\n",
    "    eval_metric='logloss',        # Evaluation metric\n",
    "    use_label_encoder=False,      # Avoid deprecated warning\n",
    "    random_state=42\n",
    ")\n",
    "\n",
    "# Train the model\n",
    "xgb_model.fit(X_train_preprocessed, y_train)\n"
   ]
  },
  {
   "cell_type": "markdown",
   "id": "fbb96a6a",
   "metadata": {},
   "source": [
    "Predictions"
   ]
  },
  {
   "cell_type": "code",
   "execution_count": 41,
   "id": "6e3f0b90",
   "metadata": {},
   "outputs": [
    {
     "name": "stdout",
     "output_type": "stream",
     "text": [
      "              precision    recall  f1-score   support\n",
      "\n",
      "           0       1.00      1.00      1.00    152233\n",
      "           1       0.89      0.80      0.85      1860\n",
      "\n",
      "    accuracy                           1.00    154093\n",
      "   macro avg       0.94      0.90      0.92    154093\n",
      "weighted avg       1.00      1.00      1.00    154093\n",
      "\n",
      "ROC-AUC: 99.8415556614581\n"
     ]
    }
   ],
   "source": [
    "# Make predictions\n",
    "y_pred = xgb_model.predict(X_test_preprocessed)\n",
    "y_proba = xgb_model.predict_proba(X_test_preprocessed)[:, 1]  # Probabilities for ROC-AUC\n",
    "\n",
    "# Calculate metrics\n",
    "print(classification_report(y_test, y_pred))\n",
    "print(f'ROC-AUC: {roc_auc_score(y_test, y_proba)*100}')\n",
    "\n"
   ]
  },
  {
   "cell_type": "code",
   "execution_count": 28,
   "id": "eb6b96f5",
   "metadata": {},
   "outputs": [
    {
     "name": "stdout",
     "output_type": "stream",
     "text": [
      "False Positives: 184\n",
      "False Negatives: 363\n"
     ]
    }
   ],
   "source": [
    "cm = confusion_matrix(y_test, y_pred)\n",
    "tn, fp, fn, tp = cm.ravel()\n",
    "\n",
    "print(f'False Positives: {fp}')\n",
    "print(f'False Negatives: {fn}')"
   ]
  },
  {
   "cell_type": "code",
   "execution_count": null,
   "id": "7a5a085b",
   "metadata": {},
   "outputs": [
    {
     "name": "stdout",
     "output_type": "stream",
     "text": [
      "Fitting 5 folds for each of 19683 candidates, totalling 98415 fits\n"
     ]
    }
   ],
   "source": [
    "from sklearn.model_selection import GridSearchCV\n",
    "param_grid = {\n",
    "    'n_estimators': [100, 200, 300],\n",
    "    'learning_rate': [0.01, 0.1, 0.2],\n",
    "    'max_depth': [3, 6, 9],\n",
    "    'min_child_weight': [1, 3, 5],\n",
    "    'subsample': [0.7, 0.8, 0.9],\n",
    "    'colsample_bytree': [0.7, 0.8, 0.9],\n",
    "    'gamma': [0, 0.1, 0.2],\n",
    "    'reg_alpha': [0, 0.1, 0.5],\n",
    "    'reg_lambda': [1, 1.5, 2]\n",
    "}\n",
    "grid_search = GridSearchCV(estimator=xgb_model, param_grid=param_grid, scoring='accuracy', cv=5, n_jobs=-1, verbose=2)\n",
    "# Fit GridSearchCV\n",
    "grid_search.fit(X_train_preprocessed, y_train)\n",
    "\n",
    "# Get the best parameters\n",
    "best_params = grid_search.best_params_\n",
    "print(f'Best Parameters: {best_params}')\n",
    "\n",
    "# Get the best model\n",
    "best_xgb_model = grid_search.best_estimator_\n",
    "\n",
    "# Evaluate the best model\n",
    "y_pred = best_xgb_model.predict(X_test_preprocessed)\n",
    "y_proba = best_xgb_model.predict_proba(X_test_preprocessed)[:, 1]\n",
    "\n",
    "print(classification_report(y_test, y_pred))\n",
    "print(f'ROC-AUC: {roc_auc_score(y_test, y_proba)}')"
   ]
  },
  {
   "cell_type": "markdown",
   "id": "5b693917",
   "metadata": {},
   "source": [
    "Feature that indicates to the merchant"
   ]
  },
  {
   "cell_type": "code",
   "execution_count": 29,
   "id": "a3829201",
   "metadata": {},
   "outputs": [
    {
     "name": "stdout",
     "output_type": "stream",
     "text": [
      "                              Feature  Importance\n",
      "4176         cat__merchant_M980657600    0.167863\n",
      "4190  cat__category_es_transportation    0.093719\n",
      "1                         num__amount    0.069580\n",
      "4161         cat__merchant_M480139044    0.054548\n",
      "4170         cat__merchant_M855959430    0.032810\n",
      "4127        cat__merchant_M1053599405    0.032185\n",
      "4186         cat__category_es_leisure    0.028438\n",
      "4148        cat__merchant_M1873032707    0.028242\n",
      "4150        cat__merchant_M1913465890    0.025405\n",
      "4188   cat__category_es_sportsandtoys    0.020886\n",
      "4172          cat__merchant_M85975013    0.019776\n",
      "4129        cat__merchant_M1198415165    0.019084\n",
      "4152        cat__merchant_M2011752106    0.017268\n",
      "4189            cat__category_es_tech    0.016284\n",
      "4133        cat__merchant_M1353266412    0.013539\n",
      "4184   cat__category_es_hotelservices    0.011609\n",
      "4166         cat__merchant_M692898500    0.011311\n",
      "4134        cat__merchant_M1400236507    0.010932\n",
      "4139        cat__merchant_M1649169323    0.010679\n",
      "4147        cat__merchant_M1872033263    0.009328\n"
     ]
    },
    {
     "data": {
      "image/png": "[encoded data removed]",
      "text/plain": [
       "<Figure size 1200x1000 with 1 Axes>"
      ]
     },
     "metadata": {},
     "output_type": "display_data"
    }
   ],
   "source": [
    "import pandas as pd\n",
    "import matplotlib.pyplot as plt\n",
    "\n",
    "# Get feature importances\n",
    "importances = xgb_model.feature_importances_\n",
    "\n",
    "# Create a DataFrame for feature importances\n",
    "feature_names = preprocessor.get_feature_names_out()\n",
    "importance_df = pd.DataFrame({\n",
    "    'Feature': feature_names,\n",
    "    'Importance': importances\n",
    "}).sort_values(by='Importance', ascending=False)\n",
    "\n",
    "# Select top 20 features\n",
    "top_20_features = importance_df.head(20)\n",
    "\n",
    "print(top_20_features)\n",
    "\n",
    "# Plot top 20 feature importances\n",
    "plt.figure(figsize=(12, 10))\n",
    "plt.barh(top_20_features['Feature'], top_20_features['Importance'], color='skyblue')\n",
    "plt.xlabel('Importance')\n",
    "plt.title('Top 20 Feature Importances')\n",
    "plt.gca().invert_yaxis()\n",
    "plt.show()\n"
   ]
  },
  {
   "cell_type": "markdown",
   "id": "712ac873",
   "metadata": {},
   "source": [
    "# Model 2 Random Forest"
   ]
  },
  {
   "cell_type": "code",
   "execution_count": 30,
   "id": "d8ed1ad4",
   "metadata": {},
   "outputs": [],
   "source": [
    "X = df_cleaned.drop('fraud', axis=1)\n",
    "y = df_cleaned['fraud']\n",
    "\n",
    "X_train, X_test, y_train, y_test = train_test_split(X, y, test_size=0.3, random_state=42, stratify=y)\n",
    "\n",
    "# Identify numeric and categorical columns\n",
    "numeric_features = X.select_dtypes(include=['int64', 'float64']).columns\n",
    "categorical_features = X.select_dtypes(include=['object']).columns\n",
    "\n",
    "# Create preprocessing pipelines for numeric and categorical data\n",
    "numeric_pipeline = Pipeline([\n",
    "    ('scaler', StandardScaler())\n",
    "])\n",
    "\n",
    "categorical_pipeline = Pipeline([\n",
    "    ('onehot', OneHotEncoder(handle_unknown='ignore'))\n",
    "])\n",
    "\n",
    "# Combine pipelines into a full preprocessing pipeline\n",
    "preprocessor = ColumnTransformer([\n",
    "    ('num', numeric_pipeline, numeric_features),\n",
    "    ('cat', categorical_pipeline, categorical_features)\n",
    "])\n",
    "\n",
    "# Preprocess training and test data\n",
    "X_train_preprocessed = preprocessor.fit_transform(X_train)\n",
    "X_test_preprocessed = preprocessor.transform(X_test)\n"
   ]
  },
  {
   "cell_type": "code",
   "execution_count": 39,
   "id": "6cd60e0b",
   "metadata": {},
   "outputs": [
    {
     "name": "stdout",
     "output_type": "stream",
     "text": [
      "              precision    recall  f1-score   support\n",
      "\n",
      "           0       1.00      1.00      1.00    152233\n",
      "           1       0.89      0.80      0.84      1860\n",
      "\n",
      "    accuracy                           1.00    154093\n",
      "   macro avg       0.94      0.90      0.92    154093\n",
      "weighted avg       1.00      1.00      1.00    154093\n",
      "\n",
      "ROC-AUC: 99.39195216387667\n"
     ]
    }
   ],
   "source": [
    "from sklearn.ensemble import RandomForestClassifier\n",
    "\n",
    "# Initialize the Random Forest model\n",
    "rf_model = RandomForestClassifier(\n",
    "    n_estimators=100,         # Number of trees in the forest\n",
    "    max_depth=None,           # Maximum depth of each tree\n",
    "    random_state=42           # Seed for reproducibility\n",
    ")\n",
    "\n",
    "# Train the model\n",
    "rf_model.fit(X_train_preprocessed, y_train)\n",
    "\n",
    "# Make predictions\n",
    "y_pred = rf_model.predict(X_test_preprocessed)\n",
    "y_proba = rf_model.predict_proba(X_test_preprocessed)[:, 1]  # Probabilities for ROC-AUC\n",
    "\n",
    "# Calculate metrics\n",
    "print(classification_report(y_test, y_pred))\n",
    "print(f'ROC-AUC: {roc_auc_score(y_test, y_proba)*100}')\n"
   ]
  },
  {
   "cell_type": "code",
   "execution_count": 47,
   "id": "5e1bf79a",
   "metadata": {},
   "outputs": [],
   "source": [
    "import pandas as pd\n",
    "\n",
    "# Assuming you have a test data DataFrame `X_test` with an 'ID' column for unique identifiers\n",
    "# If you don't have an 'ID' column, you can use the index or create a new identifier\n",
    "\n",
    "# For XGBoost Model\n",
    "xgb_predictions = xgb_model.predict(X_test_preprocessed)\n",
    "xgb_probabilities = xgb_model.predict_proba(X_test_preprocessed)[:, 1]\n",
    "\n",
    "# Create DataFrame for XGBoost predictions\n",
    "xgb_results_df = pd.DataFrame({\n",
    "    'ID': X_test.index,  # or use X_test['ID'] if available\n",
    "    'Predicted_Label': xgb_predictions,\n",
    "    'Probability': xgb_probabilities\n",
    "})\n",
    "\n",
    "# Save to CSV\n",
    "xgb_results_df.to_csv('xgb_predictions.csv', index=False)\n",
    "\n",
    "# For Random Forest Model\n",
    "rf_predictions = rf_model.predict(X_test_preprocessed)\n",
    "rf_probabilities = rf_model.predict_proba(X_test_preprocessed)[:, 1]\n",
    "\n",
    "# Create DataFrame for Random Forest predictions\n",
    "rf_results_df = pd.DataFrame({\n",
    "    'ID': X_test.index,  # or use X_test['ID'] if available\n",
    "    'Predicted_Label': rf_predictions,\n",
    "    'Probability': rf_probabilities\n",
    "})\n",
    "\n",
    "# Save to CSV\n",
    "rf_results_df.to_csv('rf_predictions.csv', index=False)\n"
   ]
  },
  {
   "cell_type": "code",
   "execution_count": 48,
   "id": "94a59d10",
   "metadata": {},
   "outputs": [
    {
     "data": {
      "text/html": [
       "<a href='xgb_predictions.csv' target='_blank'>xgb_predictions.csv</a><br>"
      ],
      "text/plain": [
       "C:\\Users\\Khushi\\Desktop\\xgb_predictions.csv"
      ]
     },
     "execution_count": 48,
     "metadata": {},
     "output_type": "execute_result"
    }
   ],
   "source": [
    "from IPython.display import FileLink\n",
    "\n",
    "# Generate a download link for the file\n",
    "FileLink('xgb_predictions.csv')"
   ]
  },
  {
   "cell_type": "code",
   "execution_count": 49,
   "id": "c3e33bd9",
   "metadata": {},
   "outputs": [
    {
     "data": {
      "text/html": [
       "<a href='rf_predictions.csv' target='_blank'>rf_predictions.csv</a><br>"
      ],
      "text/plain": [
       "C:\\Users\\Khushi\\Desktop\\rf_predictions.csv"
      ]
     },
     "execution_count": 49,
     "metadata": {},
     "output_type": "execute_result"
    }
   ],
   "source": [
    "from IPython.display import FileLink\n",
    "\n",
    "# Generate a download link for the file\n",
    "FileLink('rf_predictions.csv')"
   ]
  },
  {
   "cell_type": "code",
   "execution_count": null,
   "id": "a783e09c",
   "metadata": {},
   "outputs": [],
   "source": []
  }
 ],
 "metadata": {
  "kernelspec": {
   "display_name": "Python 3 (ipykernel)",
   "language": "python",
   "name": "python3"
  },
  "language_info": {
   "codemirror_mode": {
    "name": "ipython",
    "version": 3
   },
   "file_extension": ".py",
   "mimetype": "text/x-python",
   "name": "python",
   "nbconvert_exporter": "python",
   "pygments_lexer": "ipython3",
   "version": "3.8.18"
  }
 },
 "nbformat": 4,
 "nbformat_minor": 5
}
